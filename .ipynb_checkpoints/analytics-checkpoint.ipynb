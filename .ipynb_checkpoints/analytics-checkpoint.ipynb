{
 "cells": [
  {
   "cell_type": "code",
   "execution_count": 1,
   "metadata": {},
   "outputs": [
    {
     "data": {
      "text/plain": [
       "'1.1.3'"
      ]
     },
     "execution_count": 1,
     "metadata": {},
     "output_type": "execute_result"
    }
   ],
   "source": [
    "import pandas as pd\n",
    "pd.__version__"
   ]
  },
  {
   "cell_type": "code",
   "execution_count": 2,
   "metadata": {},
   "outputs": [
    {
     "data": {
      "text/html": [
       "<div>\n",
       "<style scoped>\n",
       "    .dataframe tbody tr th:only-of-type {\n",
       "        vertical-align: middle;\n",
       "    }\n",
       "\n",
       "    .dataframe tbody tr th {\n",
       "        vertical-align: top;\n",
       "    }\n",
       "\n",
       "    .dataframe thead th {\n",
       "        text-align: right;\n",
       "    }\n",
       "</style>\n",
       "<table border=\"1\" class=\"dataframe\">\n",
       "  <thead>\n",
       "    <tr style=\"text-align: right;\">\n",
       "      <th></th>\n",
       "      <th>Luz Trasera + Delantera Led Bicicletas Ruta Mtb</th>\n",
       "      <th>https://click1.mercadolibre.com.co/mclics/clicks/external/MCO/count?a=TpV%2FLMgtrlST%2B9rt%2Be9esx4FRLXcULbB0oGK%2B29PNK3p1Mpo1YUDPpzX1N91bPQ4aDaOsIBHvVrAmYMVPldluxJ5Kh1KidN9Sm1dcaOMZVhRIMk3u5qw2fMAUaFaaLtrMgHlZAJ7QyrDhFGh6%2BGP%2BZthKOCq%2BIBX78aAafC5C93SmOMFo2VthwcJq8eaw4inna9Y8%2B34WNRF%2BsdlbZLseM1x9RLIhj3PPREfW1SHaEDhgGZ%2FnYLqfcmqhqVKUI3OnE1Zzy%2FiLpW5KTObsYtCnrVQs7AzPhxGqM8fblRtmpFb6GB26VtDqN9INzfyj5wPaXQySQreApSeJ%2FpJPn3lm%2BMHErGEafZAjbyP0Wg0xbA9QjG1mqA7z5IjvbhFd5yOrrD32LEXYi9ZwV3GJIGFDmKUBFHkooLr6efI6AC0nsvNgAEvI4DC9MuPRe9sde%2F3h%2FVxX%2FH4xfj%2BjkNZyDrHxKAFjlhwrp02MWVsE0wHSNdDscIYmdnLeGMrLx%2Fk3ZufOjnTfEIZq6P5e5sP6O0awVJNz8wSynCypTeL40BR5Xa0nv%2BUQr3nUTPPrXC2KD%2FT%2BYiv7h1JZflhscJs3IUuMGTGZsTuc3FeHCbZnJpV0eqHtymz0h7VToy5ZxTwqtpjFQrUnMrzIYLLsVDdydRckBCEW%2FfGoOogG0qJ%2FiRXuJ4%2BlbYI7gKB3PaFgsdWGU3Rt%2BxTbqBs2LoefFFyICohFPD87Cn1hLb1PNZ1%2Fy%2FZC5m%2BJaMi46jV3MJ6ueCYnLZbCs0N6IS7Da%2FD2CPKJxxFf9cX4hyQZv3YA1UXVY91ef5gc4HmbD1Mgx2YmHpU5cTHVM3ChaogOG%2FEo1EdL4bihvkaq841jC0I1awpT5Xre%2F7T6g8jD3vWt33dK%2Bm2sx6cBnVBNzA8Zg1ekRerUYiYe%2BMuqoTu9p8%2Fk7qtfLqr2LNJJISUksZQCj6ZpsrLRR9K3nfzGh0HpOpE5qCrVb0er5Bz6geVJq%2BWx7rLr0hYgk76Kem50slHwb1yQ2VPQhRxA5VmvaaBZAVfDLIdaMt33yeg%2BSKAae8CsOfkD6toAaOvj%2FlLf9jUF%2FapJmLYsk6uoJT2OzUcVFJxpSvb2KvHgqNN%2BU7r9UYWwXv2myzifFKrC%2Btj2EXqAzRlTF7bUiIU%2FOKh81JyQY2h7PNiv1PXkeZZcxVdxpe4kZnkB6NVqnZYgr7mkyKhQ3B4PkUfA0GbKToE7GOZOOxEFWZ7f0LmBlvTQ0rI3%2B%2Bi7c%2F7k6yxJR04OVCS0l4jX9wCinepEWcUOCF4pGZGkHlsDcBr2U%2BTQpxgrShDgUrlu%2F44pSkdr5EUcKVwjCQrG6H68yba7Jy9P%2B%2Bq%2BMkypX4m1ivomd1b34%2Bvi570zjJgTriUo3z1s7cEdZ8iC0GI%2FnwI71msHpLfjMCOa0g%2F%2F5iNdz7rFeYCadgVLIv1LSi2HQBAFVccSJOMC4Zq0Uss3hEiCqnLG%2BFK0NNs</th>\n",
       "      <th>$</th>\n",
       "      <th>29.900</th>\n",
       "      <th>Unnamed: 4</th>\n",
       "      <th>False</th>\n",
       "      <th>True</th>\n",
       "    </tr>\n",
       "  </thead>\n",
       "  <tbody>\n",
       "    <tr>\n",
       "      <th>0</th>\n",
       "      <td>Bicicicleta Roadmaster Hurricane 29  Shimano R...</td>\n",
       "      <td>https://articulo.mercadolibre.com.co/MCO-53267...</td>\n",
       "      <td>$</td>\n",
       "      <td>1.399.900</td>\n",
       "      <td>60% OFF</td>\n",
       "      <td>False</td>\n",
       "      <td>False</td>\n",
       "    </tr>\n",
       "    <tr>\n",
       "      <th>1</th>\n",
       "      <td>Luz Trasera + Delantera Led Bicicletas Ruta Mtb</td>\n",
       "      <td>https://articulo.mercadolibre.com.co/MCO-57657...</td>\n",
       "      <td>$</td>\n",
       "      <td>29.900</td>\n",
       "      <td>NaN</td>\n",
       "      <td>True</td>\n",
       "      <td>False</td>\n",
       "    </tr>\n",
       "    <tr>\n",
       "      <th>2</th>\n",
       "      <td>Badana Boxer Gel 5d Ciclismo Mtb Lycra Ruta Bi...</td>\n",
       "      <td>https://articulo.mercadolibre.com.co/MCO-46831...</td>\n",
       "      <td>$</td>\n",
       "      <td>52.900</td>\n",
       "      <td>NaN</td>\n",
       "      <td>False</td>\n",
       "      <td>False</td>\n",
       "    </tr>\n",
       "    <tr>\n",
       "      <th>3</th>\n",
       "      <td>Bicicleta Todoterreno Mtb Base Negro Hombre - ...</td>\n",
       "      <td>https://articulo.mercadolibre.com.co/MCO-54302...</td>\n",
       "      <td>$</td>\n",
       "      <td>560.000</td>\n",
       "      <td>NaN</td>\n",
       "      <td>False</td>\n",
       "      <td>False</td>\n",
       "    </tr>\n",
       "    <tr>\n",
       "      <th>4</th>\n",
       "      <td>Bicicleta Xaurator Aluminio Rin 27.5 Shimano +...</td>\n",
       "      <td>https://articulo.mercadolibre.com.co/MCO-52009...</td>\n",
       "      <td>$</td>\n",
       "      <td>619.900</td>\n",
       "      <td>NaN</td>\n",
       "      <td>False</td>\n",
       "      <td>False</td>\n",
       "    </tr>\n",
       "  </tbody>\n",
       "</table>\n",
       "</div>"
      ],
      "text/plain": [
       "     Luz Trasera + Delantera Led Bicicletas Ruta Mtb  \\\n",
       "0  Bicicicleta Roadmaster Hurricane 29  Shimano R...   \n",
       "1    Luz Trasera + Delantera Led Bicicletas Ruta Mtb   \n",
       "2  Badana Boxer Gel 5d Ciclismo Mtb Lycra Ruta Bi...   \n",
       "3  Bicicleta Todoterreno Mtb Base Negro Hombre - ...   \n",
       "4  Bicicleta Xaurator Aluminio Rin 27.5 Shimano +...   \n",
       "\n",
       "  https://click1.mercadolibre.com.co/mclics/clicks/external/MCO/count?a=TpV%2FLMgtrlST%2B9rt%2Be9esx4FRLXcULbB0oGK%2B29PNK3p1Mpo1YUDPpzX1N91bPQ4aDaOsIBHvVrAmYMVPldluxJ5Kh1KidN9Sm1dcaOMZVhRIMk3u5qw2fMAUaFaaLtrMgHlZAJ7QyrDhFGh6%2BGP%2BZthKOCq%2BIBX78aAafC5C93SmOMFo2VthwcJq8eaw4inna9Y8%2B34WNRF%2BsdlbZLseM1x9RLIhj3PPREfW1SHaEDhgGZ%2FnYLqfcmqhqVKUI3OnE1Zzy%2FiLpW5KTObsYtCnrVQs7AzPhxGqM8fblRtmpFb6GB26VtDqN9INzfyj5wPaXQySQreApSeJ%2FpJPn3lm%2BMHErGEafZAjbyP0Wg0xbA9QjG1mqA7z5IjvbhFd5yOrrD32LEXYi9ZwV3GJIGFDmKUBFHkooLr6efI6AC0nsvNgAEvI4DC9MuPRe9sde%2F3h%2FVxX%2FH4xfj%2BjkNZyDrHxKAFjlhwrp02MWVsE0wHSNdDscIYmdnLeGMrLx%2Fk3ZufOjnTfEIZq6P5e5sP6O0awVJNz8wSynCypTeL40BR5Xa0nv%2BUQr3nUTPPrXC2KD%2FT%2BYiv7h1JZflhscJs3IUuMGTGZsTuc3FeHCbZnJpV0eqHtymz0h7VToy5ZxTwqtpjFQrUnMrzIYLLsVDdydRckBCEW%2FfGoOogG0qJ%2FiRXuJ4%2BlbYI7gKB3PaFgsdWGU3Rt%2BxTbqBs2LoefFFyICohFPD87Cn1hLb1PNZ1%2Fy%2FZC5m%2BJaMi46jV3MJ6ueCYnLZbCs0N6IS7Da%2FD2CPKJxxFf9cX4hyQZv3YA1UXVY91ef5gc4HmbD1Mgx2YmHpU5cTHVM3ChaogOG%2FEo1EdL4bihvkaq841jC0I1awpT5Xre%2F7T6g8jD3vWt33dK%2Bm2sx6cBnVBNzA8Zg1ekRerUYiYe%2BMuqoTu9p8%2Fk7qtfLqr2LNJJISUksZQCj6ZpsrLRR9K3nfzGh0HpOpE5qCrVb0er5Bz6geVJq%2BWx7rLr0hYgk76Kem50slHwb1yQ2VPQhRxA5VmvaaBZAVfDLIdaMt33yeg%2BSKAae8CsOfkD6toAaOvj%2FlLf9jUF%2FapJmLYsk6uoJT2OzUcVFJxpSvb2KvHgqNN%2BU7r9UYWwXv2myzifFKrC%2Btj2EXqAzRlTF7bUiIU%2FOKh81JyQY2h7PNiv1PXkeZZcxVdxpe4kZnkB6NVqnZYgr7mkyKhQ3B4PkUfA0GbKToE7GOZOOxEFWZ7f0LmBlvTQ0rI3%2B%2Bi7c%2F7k6yxJR04OVCS0l4jX9wCinepEWcUOCF4pGZGkHlsDcBr2U%2BTQpxgrShDgUrlu%2F44pSkdr5EUcKVwjCQrG6H68yba7Jy9P%2B%2Bq%2BMkypX4m1ivomd1b34%2Bvi570zjJgTriUo3z1s7cEdZ8iC0GI%2FnwI71msHpLfjMCOa0g%2F%2F5iNdz7rFeYCadgVLIv1LSi2HQBAFVccSJOMC4Zq0Uss3hEiCqnLG%2BFK0NNs  \\\n",
       "0  https://articulo.mercadolibre.com.co/MCO-53267...                                                                                                                                                                                                                                                                                                                                                                                                                                                                                                                                                                                                                                                                                                                                                                                                                                                                                                                                                                                                                                                                                                                                                                                                                                                                                                                                                                                                                                                                                                                                                                                                                                                                       \n",
       "1  https://articulo.mercadolibre.com.co/MCO-57657...                                                                                                                                                                                                                                                                                                                                                                                                                                                                                                                                                                                                                                                                                                                                                                                                                                                                                                                                                                                                                                                                                                                                                                                                                                                                                                                                                                                                                                                                                                                                                                                                                                                                       \n",
       "2  https://articulo.mercadolibre.com.co/MCO-46831...                                                                                                                                                                                                                                                                                                                                                                                                                                                                                                                                                                                                                                                                                                                                                                                                                                                                                                                                                                                                                                                                                                                                                                                                                                                                                                                                                                                                                                                                                                                                                                                                                                                                       \n",
       "3  https://articulo.mercadolibre.com.co/MCO-54302...                                                                                                                                                                                                                                                                                                                                                                                                                                                                                                                                                                                                                                                                                                                                                                                                                                                                                                                                                                                                                                                                                                                                                                                                                                                                                                                                                                                                                                                                                                                                                                                                                                                                       \n",
       "4  https://articulo.mercadolibre.com.co/MCO-52009...                                                                                                                                                                                                                                                                                                                                                                                                                                                                                                                                                                                                                                                                                                                                                                                                                                                                                                                                                                                                                                                                                                                                                                                                                                                                                                                                                                                                                                                                                                                                                                                                                                                                       \n",
       "\n",
       "   $     29.900 Unnamed: 4  False   True  \n",
       "0  $  1.399.900    60% OFF  False  False  \n",
       "1  $     29.900        NaN   True  False  \n",
       "2  $     52.900        NaN  False  False  \n",
       "3  $    560.000        NaN  False  False  \n",
       "4  $    619.900        NaN  False  False  "
      ]
     },
     "execution_count": 2,
     "metadata": {},
     "output_type": "execute_result"
    }
   ],
   "source": [
    "mercadolibre_df = pd.read_csv('output/mercadolibre_co_2021_03_17_products.csv', encoding = \"ISO-8859-1\")\n",
    "mercadolibre_df.head()\n"
   ]
  },
  {
   "cell_type": "code",
   "execution_count": 8,
   "metadata": {},
   "outputs": [
    {
     "data": {
      "text/plain": [
       "(2046, 7)"
      ]
     },
     "execution_count": 8,
     "metadata": {},
     "output_type": "execute_result"
    }
   ],
   "source": [
    "mercadolibre_df.shape"
   ]
  },
  {
   "cell_type": "code",
   "execution_count": 9,
   "metadata": {},
   "outputs": [
    {
     "name": "stdout",
     "output_type": "stream",
     "text": [
      "Productos: 1927\n"
     ]
    }
   ],
   "source": [
    "mercadolibre_df = mercadolibre_df[['name','best_seller']]\n",
    "unique_products = mercadolibre_df.name.unique()\n",
    "print(f\"Productos: {len(unique_products)}\")"
   ]
  },
  {
   "cell_type": "code",
   "execution_count": 12,
   "metadata": {},
   "outputs": [
    {
     "data": {
      "text/html": [
       "<div>\n",
       "<style scoped>\n",
       "    .dataframe tbody tr th:only-of-type {\n",
       "        vertical-align: middle;\n",
       "    }\n",
       "\n",
       "    .dataframe tbody tr th {\n",
       "        vertical-align: top;\n",
       "    }\n",
       "\n",
       "    .dataframe thead th {\n",
       "        text-align: right;\n",
       "    }\n",
       "</style>\n",
       "<table border=\"1\" class=\"dataframe\">\n",
       "  <thead>\n",
       "    <tr style=\"text-align: right;\">\n",
       "      <th></th>\n",
       "      <th>name</th>\n",
       "      <th>best_seller</th>\n",
       "    </tr>\n",
       "  </thead>\n",
       "  <tbody>\n",
       "    <tr>\n",
       "      <th>0</th>\n",
       "      <td>Luz Trasera + Delantera Led Bicicletas Ruta Mtb</td>\n",
       "      <td>True</td>\n",
       "    </tr>\n",
       "  </tbody>\n",
       "</table>\n",
       "</div>"
      ],
      "text/plain": [
       "                                              name  best_seller\n",
       "0  Luz Trasera + Delantera Led Bicicletas Ruta Mtb         True"
      ]
     },
     "execution_count": 12,
     "metadata": {},
     "output_type": "execute_result"
    }
   ],
   "source": [
    "mercadolibre_df = mercadolibre_df[ mercadolibre_df['best_seller']==True ]\n",
    "mercadolibre_df"
   ]
  }
 ],
 "metadata": {
  "kernelspec": {
   "display_name": "Python 3",
   "language": "python",
   "name": "python3"
  },
  "language_info": {
   "codemirror_mode": {
    "name": "ipython",
    "version": 3
   },
   "file_extension": ".py",
   "mimetype": "text/x-python",
   "name": "python",
   "nbconvert_exporter": "python",
   "pygments_lexer": "ipython3",
   "version": "3.8.5"
  }
 },
 "nbformat": 4,
 "nbformat_minor": 2
}
