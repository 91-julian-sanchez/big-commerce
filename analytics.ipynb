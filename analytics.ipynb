{
 "cells": [
  {
   "cell_type": "code",
   "execution_count": 1,
   "metadata": {},
   "outputs": [
    {
     "data": {
      "text/plain": [
       "'1.1.3'"
      ]
     },
     "execution_count": 1,
     "metadata": {},
     "output_type": "execute_result"
    }
   ],
   "source": [
    "import pandas as pd\n",
    "pd.__version__"
   ]
  },
  {
   "cell_type": "code",
   "execution_count": 7,
   "metadata": {},
   "outputs": [
    {
     "data": {
      "text/html": [
       "<div>\n",
       "<style scoped>\n",
       "    .dataframe tbody tr th:only-of-type {\n",
       "        vertical-align: middle;\n",
       "    }\n",
       "\n",
       "    .dataframe tbody tr th {\n",
       "        vertical-align: top;\n",
       "    }\n",
       "\n",
       "    .dataframe thead th {\n",
       "        text-align: right;\n",
       "    }\n",
       "</style>\n",
       "<table border=\"1\" class=\"dataframe\">\n",
       "  <thead>\n",
       "    <tr style=\"text-align: right;\">\n",
       "      <th></th>\n",
       "      <th>name</th>\n",
       "      <th>link</th>\n",
       "      <th>price_simbol</th>\n",
       "      <th>price</th>\n",
       "      <th>price_discount</th>\n",
       "      <th>best_seller</th>\n",
       "      <th>promotional</th>\n",
       "    </tr>\n",
       "  </thead>\n",
       "  <tbody>\n",
       "    <tr>\n",
       "      <th>0</th>\n",
       "      <td>Luz Trasera + Delantera Led Bicicletas Ruta Mtb</td>\n",
       "      <td>https://click1.mercadolibre.com.co/mclics/clic...</td>\n",
       "      <td>$</td>\n",
       "      <td>29.900</td>\n",
       "      <td>NaN</td>\n",
       "      <td>False</td>\n",
       "      <td>True</td>\n",
       "    </tr>\n",
       "    <tr>\n",
       "      <th>1</th>\n",
       "      <td>Bicicicleta Roadmaster Hurricane 29  Shimano R...</td>\n",
       "      <td>https://articulo.mercadolibre.com.co/MCO-53267...</td>\n",
       "      <td>$</td>\n",
       "      <td>1.399.900</td>\n",
       "      <td>60% OFF</td>\n",
       "      <td>False</td>\n",
       "      <td>False</td>\n",
       "    </tr>\n",
       "    <tr>\n",
       "      <th>2</th>\n",
       "      <td>Luz Trasera + Delantera Led Bicicletas Ruta Mtb</td>\n",
       "      <td>https://articulo.mercadolibre.com.co/MCO-57657...</td>\n",
       "      <td>$</td>\n",
       "      <td>29.900</td>\n",
       "      <td>NaN</td>\n",
       "      <td>True</td>\n",
       "      <td>False</td>\n",
       "    </tr>\n",
       "    <tr>\n",
       "      <th>3</th>\n",
       "      <td>Badana Boxer Gel 5d Ciclismo Mtb Lycra Ruta Bi...</td>\n",
       "      <td>https://articulo.mercadolibre.com.co/MCO-46831...</td>\n",
       "      <td>$</td>\n",
       "      <td>52.900</td>\n",
       "      <td>NaN</td>\n",
       "      <td>False</td>\n",
       "      <td>False</td>\n",
       "    </tr>\n",
       "    <tr>\n",
       "      <th>4</th>\n",
       "      <td>Bicicleta Todoterreno Mtb Base Negro Hombre - ...</td>\n",
       "      <td>https://articulo.mercadolibre.com.co/MCO-54302...</td>\n",
       "      <td>$</td>\n",
       "      <td>560.000</td>\n",
       "      <td>NaN</td>\n",
       "      <td>False</td>\n",
       "      <td>False</td>\n",
       "    </tr>\n",
       "  </tbody>\n",
       "</table>\n",
       "</div>"
      ],
      "text/plain": [
       "                                                name  \\\n",
       "0    Luz Trasera + Delantera Led Bicicletas Ruta Mtb   \n",
       "1  Bicicicleta Roadmaster Hurricane 29  Shimano R...   \n",
       "2    Luz Trasera + Delantera Led Bicicletas Ruta Mtb   \n",
       "3  Badana Boxer Gel 5d Ciclismo Mtb Lycra Ruta Bi...   \n",
       "4  Bicicleta Todoterreno Mtb Base Negro Hombre - ...   \n",
       "\n",
       "                                                link price_simbol      price  \\\n",
       "0  https://click1.mercadolibre.com.co/mclics/clic...            $     29.900   \n",
       "1  https://articulo.mercadolibre.com.co/MCO-53267...            $  1.399.900   \n",
       "2  https://articulo.mercadolibre.com.co/MCO-57657...            $     29.900   \n",
       "3  https://articulo.mercadolibre.com.co/MCO-46831...            $     52.900   \n",
       "4  https://articulo.mercadolibre.com.co/MCO-54302...            $    560.000   \n",
       "\n",
       "  price_discount  best_seller  promotional  \n",
       "0            NaN        False         True  \n",
       "1        60% OFF        False        False  \n",
       "2            NaN         True        False  \n",
       "3            NaN        False        False  \n",
       "4            NaN        False        False  "
      ]
     },
     "execution_count": 7,
     "metadata": {},
     "output_type": "execute_result"
    }
   ],
   "source": [
    "mercadolibre_df = pd.read_csv('output/mercadolibre_co_2021_03_17_products.csv', encoding = \"ISO-8859-1\")\n",
    "mercadolibre_df.head()\n"
   ]
  },
  {
   "cell_type": "code",
   "execution_count": 8,
   "metadata": {},
   "outputs": [
    {
     "data": {
      "text/plain": [
       "(16408, 7)"
      ]
     },
     "execution_count": 8,
     "metadata": {},
     "output_type": "execute_result"
    }
   ],
   "source": [
    "mercadolibre_df.shape"
   ]
  },
  {
   "cell_type": "code",
   "execution_count": 9,
   "metadata": {},
   "outputs": [
    {
     "name": "stdout",
     "output_type": "stream",
     "text": [
      "Productos: 11449\n"
     ]
    }
   ],
   "source": [
    "mercadolibre_df = mercadolibre_df[['name','best_seller','link']]\n",
    "unique_products = mercadolibre_df.name.unique()\n",
    "print(f\"Productos: {len(unique_products)}\")"
   ]
  },
  {
   "cell_type": "code",
   "execution_count": 10,
   "metadata": {
    "scrolled": true
   },
   "outputs": [
    {
     "data": {
      "text/html": [
       "<div>\n",
       "<style scoped>\n",
       "    .dataframe tbody tr th:only-of-type {\n",
       "        vertical-align: middle;\n",
       "    }\n",
       "\n",
       "    .dataframe tbody tr th {\n",
       "        vertical-align: top;\n",
       "    }\n",
       "\n",
       "    .dataframe thead th {\n",
       "        text-align: right;\n",
       "    }\n",
       "</style>\n",
       "<table border=\"1\" class=\"dataframe\">\n",
       "  <thead>\n",
       "    <tr style=\"text-align: right;\">\n",
       "      <th></th>\n",
       "      <th>name</th>\n",
       "      <th>best_seller</th>\n",
       "      <th>link</th>\n",
       "    </tr>\n",
       "  </thead>\n",
       "  <tbody>\n",
       "    <tr>\n",
       "      <th>2</th>\n",
       "      <td>Luz Trasera + Delantera Led Bicicletas Ruta Mtb</td>\n",
       "      <td>True</td>\n",
       "      <td>https://articulo.mercadolibre.com.co/MCO-57657...</td>\n",
       "    </tr>\n",
       "    <tr>\n",
       "      <th>2045</th>\n",
       "      <td>Luz Trasera + Delantera Led Bicicletas Ruta Mtb</td>\n",
       "      <td>True</td>\n",
       "      <td>https://articulo.mercadolibre.com.co/MCO-57657...</td>\n",
       "    </tr>\n",
       "    <tr>\n",
       "      <th>4100</th>\n",
       "      <td>Bicicicleta Roadmaster Hurricane 29  Shimano R...</td>\n",
       "      <td>True</td>\n",
       "      <td>https://articulo.mercadolibre.com.co/MCO-53267...</td>\n",
       "    </tr>\n",
       "    <tr>\n",
       "      <th>6123</th>\n",
       "      <td>Acelerador Velocidades Bicicleta Elï¿½ctrica</td>\n",
       "      <td>True</td>\n",
       "      <td>https://articulo.mercadolibre.com.co/MCO-59911...</td>\n",
       "    </tr>\n",
       "    <tr>\n",
       "      <th>8222</th>\n",
       "      <td>Bicicleta Estatica  Spinning Gimnasio</td>\n",
       "      <td>True</td>\n",
       "      <td>https://articulo.mercadolibre.com.co/MCO-56710...</td>\n",
       "    </tr>\n",
       "    <tr>\n",
       "      <th>10308</th>\n",
       "      <td>Badana Boxer Gel 5d Ciclismo Mtb Lycra Ruta Bi...</td>\n",
       "      <td>True</td>\n",
       "      <td>https://articulo.mercadolibre.com.co/MCO-46831...</td>\n",
       "    </tr>\n",
       "    <tr>\n",
       "      <th>12360</th>\n",
       "      <td>Silla Para Bicicleta Sillï¿½n, O Galapago Anti...</td>\n",
       "      <td>True</td>\n",
       "      <td>https://articulo.mercadolibre.com.co/MCO-47018...</td>\n",
       "    </tr>\n",
       "  </tbody>\n",
       "</table>\n",
       "</div>"
      ],
      "text/plain": [
       "                                                    name  best_seller  \\\n",
       "2        Luz Trasera + Delantera Led Bicicletas Ruta Mtb         True   \n",
       "2045     Luz Trasera + Delantera Led Bicicletas Ruta Mtb         True   \n",
       "4100   Bicicicleta Roadmaster Hurricane 29  Shimano R...         True   \n",
       "6123        Acelerador Velocidades Bicicleta Elï¿½ctrica         True   \n",
       "8222               Bicicleta Estatica  Spinning Gimnasio         True   \n",
       "10308  Badana Boxer Gel 5d Ciclismo Mtb Lycra Ruta Bi...         True   \n",
       "12360  Silla Para Bicicleta Sillï¿½n, O Galapago Anti...         True   \n",
       "\n",
       "                                                    link  \n",
       "2      https://articulo.mercadolibre.com.co/MCO-57657...  \n",
       "2045   https://articulo.mercadolibre.com.co/MCO-57657...  \n",
       "4100   https://articulo.mercadolibre.com.co/MCO-53267...  \n",
       "6123   https://articulo.mercadolibre.com.co/MCO-59911...  \n",
       "8222   https://articulo.mercadolibre.com.co/MCO-56710...  \n",
       "10308  https://articulo.mercadolibre.com.co/MCO-46831...  \n",
       "12360  https://articulo.mercadolibre.com.co/MCO-47018...  "
      ]
     },
     "execution_count": 10,
     "metadata": {},
     "output_type": "execute_result"
    }
   ],
   "source": [
    "mercadolibre_df = mercadolibre_df[ mercadolibre_df['best_seller']==True ]\n",
    "mercadolibre_df"
   ]
  },
  {
   "cell_type": "code",
   "execution_count": 12,
   "metadata": {},
   "outputs": [],
   "source": [
    "mercadolibre_df.to_csv(\"./BI.csv\")"
   ]
  }
 ],
 "metadata": {
  "kernelspec": {
   "display_name": "Python 3",
   "language": "python",
   "name": "python3"
  },
  "language_info": {
   "codemirror_mode": {
    "name": "ipython",
    "version": 3
   },
   "file_extension": ".py",
   "mimetype": "text/x-python",
   "name": "python",
   "nbconvert_exporter": "python",
   "pygments_lexer": "ipython3",
   "version": "3.8.5"
  }
 },
 "nbformat": 4,
 "nbformat_minor": 2
}
