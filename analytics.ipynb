{
 "metadata": {
  "language_info": {
   "codemirror_mode": {
    "name": "ipython",
    "version": 3
   },
   "file_extension": ".py",
   "mimetype": "text/x-python",
   "name": "python",
   "nbconvert_exporter": "python",
   "pygments_lexer": "ipython3",
   "version": "3.8.5-final"
  },
  "orig_nbformat": 2,
  "kernelspec": {
   "name": "python3",
   "display_name": "Python 3",
   "language": "python"
  }
 },
 "nbformat": 4,
 "nbformat_minor": 2,
 "cells": [
  {
   "cell_type": "code",
   "execution_count": 2,
   "metadata": {},
   "outputs": [
    {
     "output_type": "execute_result",
     "data": {
      "text/plain": [
       "'1.1.3'"
      ]
     },
     "metadata": {},
     "execution_count": 2
    }
   ],
   "source": [
    "import pandas as pd\n",
    "pd.__version__"
   ]
  },
  {
   "cell_type": "code",
   "execution_count": 7,
   "metadata": {},
   "outputs": [
    {
     "output_type": "execute_result",
     "data": {
      "text/plain": [
       "                                                name  \\\n",
       "0    Luz Trasera + Delantera Led Bicicletas Ruta Mtb   \n",
       "1  Badana Boxer Gel 5d Ciclismo Mtb Lycra Ruta Bi...   \n",
       "2  Bicicleta Niño Gw Fireman Doble Freno Con Auxi...   \n",
       "3  Bicicleta Gw Zebra Montaña Rin 29 Tourney 7 Ve...   \n",
       "4  Soporte De Pared Para Bicicleta Gancho + Chazo...   \n",
       "\n",
       "                                                link price_simbol    price  \\\n",
       "0  https://articulo.mercadolibre.com.co/MCO-57657...            $   29.900   \n",
       "1  https://articulo.mercadolibre.com.co/MCO-46831...            $   52.900   \n",
       "2  https://articulo.mercadolibre.com.co/MCO-45910...            $  329.900   \n",
       "3  https://articulo.mercadolibre.com.co/MCO-54664...            $  799.900   \n",
       "4  https://articulo.mercadolibre.com.co/MCO-48344...            $   16.990   \n",
       "\n",
       "  price_discount  best_seller  promotional  \n",
       "0            NaN         True        False  \n",
       "1            NaN        False        False  \n",
       "2        45% OFF        False        False  \n",
       "3            NaN        False        False  \n",
       "4            NaN        False        False  "
      ],
      "text/html": "<div>\n<style scoped>\n    .dataframe tbody tr th:only-of-type {\n        vertical-align: middle;\n    }\n\n    .dataframe tbody tr th {\n        vertical-align: top;\n    }\n\n    .dataframe thead th {\n        text-align: right;\n    }\n</style>\n<table border=\"1\" class=\"dataframe\">\n  <thead>\n    <tr style=\"text-align: right;\">\n      <th></th>\n      <th>name</th>\n      <th>link</th>\n      <th>price_simbol</th>\n      <th>price</th>\n      <th>price_discount</th>\n      <th>best_seller</th>\n      <th>promotional</th>\n    </tr>\n  </thead>\n  <tbody>\n    <tr>\n      <th>0</th>\n      <td>Luz Trasera + Delantera Led Bicicletas Ruta Mtb</td>\n      <td>https://articulo.mercadolibre.com.co/MCO-57657...</td>\n      <td>$</td>\n      <td>29.900</td>\n      <td>NaN</td>\n      <td>True</td>\n      <td>False</td>\n    </tr>\n    <tr>\n      <th>1</th>\n      <td>Badana Boxer Gel 5d Ciclismo Mtb Lycra Ruta Bi...</td>\n      <td>https://articulo.mercadolibre.com.co/MCO-46831...</td>\n      <td>$</td>\n      <td>52.900</td>\n      <td>NaN</td>\n      <td>False</td>\n      <td>False</td>\n    </tr>\n    <tr>\n      <th>2</th>\n      <td>Bicicleta Niño Gw Fireman Doble Freno Con Auxi...</td>\n      <td>https://articulo.mercadolibre.com.co/MCO-45910...</td>\n      <td>$</td>\n      <td>329.900</td>\n      <td>45% OFF</td>\n      <td>False</td>\n      <td>False</td>\n    </tr>\n    <tr>\n      <th>3</th>\n      <td>Bicicleta Gw Zebra Montaña Rin 29 Tourney 7 Ve...</td>\n      <td>https://articulo.mercadolibre.com.co/MCO-54664...</td>\n      <td>$</td>\n      <td>799.900</td>\n      <td>NaN</td>\n      <td>False</td>\n      <td>False</td>\n    </tr>\n    <tr>\n      <th>4</th>\n      <td>Soporte De Pared Para Bicicleta Gancho + Chazo...</td>\n      <td>https://articulo.mercadolibre.com.co/MCO-48344...</td>\n      <td>$</td>\n      <td>16.990</td>\n      <td>NaN</td>\n      <td>False</td>\n      <td>False</td>\n    </tr>\n  </tbody>\n</table>\n</div>"
     },
     "metadata": {},
     "execution_count": 7
    }
   ],
   "source": [
    "mercadolibre_df = pd.read_csv('output/mercadolibre_co_2021_03_01_products.csv', encoding = \"ISO-8859-1\")\n",
    "mercadolibre_df.head()\n"
   ]
  },
  {
   "cell_type": "code",
   "execution_count": 8,
   "metadata": {},
   "outputs": [
    {
     "output_type": "execute_result",
     "data": {
      "text/plain": [
       "(2046, 7)"
      ]
     },
     "metadata": {},
     "execution_count": 8
    }
   ],
   "source": [
    "mercadolibre_df.shape"
   ]
  },
  {
   "cell_type": "code",
   "execution_count": 9,
   "metadata": {},
   "outputs": [
    {
     "output_type": "stream",
     "name": "stdout",
     "text": [
      "Productos: 1927\n"
     ]
    }
   ],
   "source": [
    "mercadolibre_df = mercadolibre_df[['name','best_seller']]\n",
    "unique_products = mercadolibre_df.name.unique()\n",
    "print(f\"Productos: {len(unique_products)}\")"
   ]
  },
  {
   "cell_type": "code",
   "execution_count": 12,
   "metadata": {},
   "outputs": [
    {
     "output_type": "execute_result",
     "data": {
      "text/plain": [
       "                                              name  best_seller\n",
       "0  Luz Trasera + Delantera Led Bicicletas Ruta Mtb         True"
      ],
      "text/html": "<div>\n<style scoped>\n    .dataframe tbody tr th:only-of-type {\n        vertical-align: middle;\n    }\n\n    .dataframe tbody tr th {\n        vertical-align: top;\n    }\n\n    .dataframe thead th {\n        text-align: right;\n    }\n</style>\n<table border=\"1\" class=\"dataframe\">\n  <thead>\n    <tr style=\"text-align: right;\">\n      <th></th>\n      <th>name</th>\n      <th>best_seller</th>\n    </tr>\n  </thead>\n  <tbody>\n    <tr>\n      <th>0</th>\n      <td>Luz Trasera + Delantera Led Bicicletas Ruta Mtb</td>\n      <td>True</td>\n    </tr>\n  </tbody>\n</table>\n</div>"
     },
     "metadata": {},
     "execution_count": 12
    }
   ],
   "source": [
    "mercadolibre_df = mercadolibre_df[ mercadolibre_df['best_seller']==True ]\n",
    "mercadolibre_df"
   ]
  }
 ]
}