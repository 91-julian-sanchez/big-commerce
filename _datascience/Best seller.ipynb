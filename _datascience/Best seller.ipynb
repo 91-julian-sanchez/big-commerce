{
 "cells": [
  {
   "source": [
    "## Leer archivo"
   ],
   "cell_type": "code",
   "metadata": {},
   "execution_count": 41,
   "outputs": []
  },
  {
   "cell_type": "code",
   "execution_count": 43,
   "metadata": {
    "scrolled": true
   },
   "outputs": [],
   "source": [
    "import pandas as pd\n",
    "PID = '210402070701'\n",
    "MARKTPLACE = 'mercadolibre'\n",
    "COUNTRY = 'co'"
   ]
  },
  {
   "cell_type": "markdown",
   "metadata": {},
   "source": [
    "## Dataframe de productos"
   ]
  },
  {
   "cell_type": "code",
   "execution_count": 45,
   "metadata": {},
   "outputs": [
    {
     "output_type": "execute_result",
     "data": {
      "text/plain": [
       "                                                    name  \\\n",
       "0      Casco Ciclismo Armor On Trail Bicicletas Ruta ...   \n",
       "1              Velocï¿½metro (odï¿½metro) Para Bicicleta   \n",
       "2      Soporte Pared Bicicleta 30kg Original 2 Unid T...   \n",
       "3        Luz Trasera + Delantera Led Bicicletas Ruta Mtb   \n",
       "4      Casco Mtb Enduro Certificado Cairbull Biciclet...   \n",
       "...                                                  ...   \n",
       "14307      Monociclo Cromado Sun 24 Pulgadas Color Negro   \n",
       "14308       Monocicle Aw Rueda De 16 Pulgadas Color Rojo   \n",
       "14309  Monociclo Fun Rueda De 20 Pulgadas Con Aleaciï...   \n",
       "14310  Monociclo Fun Rueda De 20 Pulgadas Con Aleaciï...   \n",
       "14311      Monociclo Sun 24 Pulgadas Color Verde Y Negro   \n",
       "\n",
       "                                                    link      price  \\\n",
       "0      https://articulo.mercadolibre.com.co/MCO-56490...     79.900   \n",
       "1      https://articulo.mercadolibre.com.co/MCO-58912...     17.500   \n",
       "2      https://articulo.mercadolibre.com.co/MCO-46826...     29.800   \n",
       "3      https://articulo.mercadolibre.com.co/MCO-57657...     29.900   \n",
       "4      https://articulo.mercadolibre.com.co/MCO-47970...    149.900   \n",
       "...                                                  ...        ...   \n",
       "14307  https://articulo.mercadolibre.com.co/MCO-58970...  1.298.394   \n",
       "14308  https://articulo.mercadolibre.com.co/MCO-58970...    601.934   \n",
       "14309  https://articulo.mercadolibre.com.co/MCO-58970...  1.258.624   \n",
       "14310  https://articulo.mercadolibre.com.co/MCO-58970...  1.535.074   \n",
       "14311  https://articulo.mercadolibre.com.co/MCO-58986...  1.375.994   \n",
       "\n",
       "      price_discount  best_seller  promotional category_id  \\\n",
       "0                NaN        False        False    MCO12214   \n",
       "1                NaN        False        False    MCO12214   \n",
       "2                NaN        False        False    MCO12214   \n",
       "3                NaN         True        False    MCO12214   \n",
       "4                NaN        False        False    MCO12214   \n",
       "...              ...          ...          ...         ...   \n",
       "14307            NaN        False        False     MCO6143   \n",
       "14308            NaN        False        False     MCO6143   \n",
       "14309            NaN        False        False     MCO6143   \n",
       "14310            NaN        False        False     MCO6143   \n",
       "14311            NaN        False        False     MCO6143   \n",
       "\n",
       "                  number_sales               seller  delivery  rating  \n",
       "0      Nuevo  |  1568 vendidos  HELLOFTHENORTHSTORE       NaN     4.8  \n",
       "1       Nuevo  |  141 vendidos          BUNKERBIKER       NaN     4.5  \n",
       "2      Nuevo  |  3271 vendidos         KORINTIO.COM       NaN     4.7  \n",
       "3      Nuevo  |  2893 vendidos  HELLOFTHENORTHSTORE       NaN     4.3  \n",
       "4       Nuevo  |  581 vendidos         KORINTIO.COM       NaN     4.9  \n",
       "...                        ...                  ...       ...     ...  \n",
       "14307                    Nuevo             DIFERO82       NaN     NaN  \n",
       "14308                    Nuevo             DIFERO82       NaN     NaN  \n",
       "14309                    Nuevo             DIFERO82       NaN     NaN  \n",
       "14310                    Nuevo             DIFERO82       NaN     NaN  \n",
       "14311                    Nuevo         GIGASHOP-USA       NaN     NaN  \n",
       "\n",
       "[14312 rows x 11 columns]"
      ],
      "text/html": "<div>\n<style scoped>\n    .dataframe tbody tr th:only-of-type {\n        vertical-align: middle;\n    }\n\n    .dataframe tbody tr th {\n        vertical-align: top;\n    }\n\n    .dataframe thead th {\n        text-align: right;\n    }\n</style>\n<table border=\"1\" class=\"dataframe\">\n  <thead>\n    <tr style=\"text-align: right;\">\n      <th></th>\n      <th>name</th>\n      <th>link</th>\n      <th>price</th>\n      <th>price_discount</th>\n      <th>best_seller</th>\n      <th>promotional</th>\n      <th>category_id</th>\n      <th>number_sales</th>\n      <th>seller</th>\n      <th>delivery</th>\n      <th>rating</th>\n    </tr>\n  </thead>\n  <tbody>\n    <tr>\n      <th>0</th>\n      <td>Casco Ciclismo Armor On Trail Bicicletas Ruta ...</td>\n      <td>https://articulo.mercadolibre.com.co/MCO-56490...</td>\n      <td>79.900</td>\n      <td>NaN</td>\n      <td>False</td>\n      <td>False</td>\n      <td>MCO12214</td>\n      <td>Nuevo  |  1568 vendidos</td>\n      <td>HELLOFTHENORTHSTORE</td>\n      <td>NaN</td>\n      <td>4.8</td>\n    </tr>\n    <tr>\n      <th>1</th>\n      <td>Velocï¿½metro (odï¿½metro) Para Bicicleta</td>\n      <td>https://articulo.mercadolibre.com.co/MCO-58912...</td>\n      <td>17.500</td>\n      <td>NaN</td>\n      <td>False</td>\n      <td>False</td>\n      <td>MCO12214</td>\n      <td>Nuevo  |  141 vendidos</td>\n      <td>BUNKERBIKER</td>\n      <td>NaN</td>\n      <td>4.5</td>\n    </tr>\n    <tr>\n      <th>2</th>\n      <td>Soporte Pared Bicicleta 30kg Original 2 Unid T...</td>\n      <td>https://articulo.mercadolibre.com.co/MCO-46826...</td>\n      <td>29.800</td>\n      <td>NaN</td>\n      <td>False</td>\n      <td>False</td>\n      <td>MCO12214</td>\n      <td>Nuevo  |  3271 vendidos</td>\n      <td>KORINTIO.COM</td>\n      <td>NaN</td>\n      <td>4.7</td>\n    </tr>\n    <tr>\n      <th>3</th>\n      <td>Luz Trasera + Delantera Led Bicicletas Ruta Mtb</td>\n      <td>https://articulo.mercadolibre.com.co/MCO-57657...</td>\n      <td>29.900</td>\n      <td>NaN</td>\n      <td>True</td>\n      <td>False</td>\n      <td>MCO12214</td>\n      <td>Nuevo  |  2893 vendidos</td>\n      <td>HELLOFTHENORTHSTORE</td>\n      <td>NaN</td>\n      <td>4.3</td>\n    </tr>\n    <tr>\n      <th>4</th>\n      <td>Casco Mtb Enduro Certificado Cairbull Biciclet...</td>\n      <td>https://articulo.mercadolibre.com.co/MCO-47970...</td>\n      <td>149.900</td>\n      <td>NaN</td>\n      <td>False</td>\n      <td>False</td>\n      <td>MCO12214</td>\n      <td>Nuevo  |  581 vendidos</td>\n      <td>KORINTIO.COM</td>\n      <td>NaN</td>\n      <td>4.9</td>\n    </tr>\n    <tr>\n      <th>...</th>\n      <td>...</td>\n      <td>...</td>\n      <td>...</td>\n      <td>...</td>\n      <td>...</td>\n      <td>...</td>\n      <td>...</td>\n      <td>...</td>\n      <td>...</td>\n      <td>...</td>\n      <td>...</td>\n    </tr>\n    <tr>\n      <th>14307</th>\n      <td>Monociclo Cromado Sun 24 Pulgadas Color Negro</td>\n      <td>https://articulo.mercadolibre.com.co/MCO-58970...</td>\n      <td>1.298.394</td>\n      <td>NaN</td>\n      <td>False</td>\n      <td>False</td>\n      <td>MCO6143</td>\n      <td>Nuevo</td>\n      <td>DIFERO82</td>\n      <td>NaN</td>\n      <td>NaN</td>\n    </tr>\n    <tr>\n      <th>14308</th>\n      <td>Monocicle Aw Rueda De 16 Pulgadas Color Rojo</td>\n      <td>https://articulo.mercadolibre.com.co/MCO-58970...</td>\n      <td>601.934</td>\n      <td>NaN</td>\n      <td>False</td>\n      <td>False</td>\n      <td>MCO6143</td>\n      <td>Nuevo</td>\n      <td>DIFERO82</td>\n      <td>NaN</td>\n      <td>NaN</td>\n    </tr>\n    <tr>\n      <th>14309</th>\n      <td>Monociclo Fun Rueda De 20 Pulgadas Con Aleaciï...</td>\n      <td>https://articulo.mercadolibre.com.co/MCO-58970...</td>\n      <td>1.258.624</td>\n      <td>NaN</td>\n      <td>False</td>\n      <td>False</td>\n      <td>MCO6143</td>\n      <td>Nuevo</td>\n      <td>DIFERO82</td>\n      <td>NaN</td>\n      <td>NaN</td>\n    </tr>\n    <tr>\n      <th>14310</th>\n      <td>Monociclo Fun Rueda De 20 Pulgadas Con Aleaciï...</td>\n      <td>https://articulo.mercadolibre.com.co/MCO-58970...</td>\n      <td>1.535.074</td>\n      <td>NaN</td>\n      <td>False</td>\n      <td>False</td>\n      <td>MCO6143</td>\n      <td>Nuevo</td>\n      <td>DIFERO82</td>\n      <td>NaN</td>\n      <td>NaN</td>\n    </tr>\n    <tr>\n      <th>14311</th>\n      <td>Monociclo Sun 24 Pulgadas Color Verde Y Negro</td>\n      <td>https://articulo.mercadolibre.com.co/MCO-58986...</td>\n      <td>1.375.994</td>\n      <td>NaN</td>\n      <td>False</td>\n      <td>False</td>\n      <td>MCO6143</td>\n      <td>Nuevo</td>\n      <td>GIGASHOP-USA</td>\n      <td>NaN</td>\n      <td>NaN</td>\n    </tr>\n  </tbody>\n</table>\n<p>14312 rows × 11 columns</p>\n</div>"
     },
     "metadata": {},
     "execution_count": 45
    }
   ],
   "source": [
    "df = pd.read_csv(f'../.output/{PID}-{MARKTPLACE}_{COUNTRY}_products.csv', encoding = \"ISO-8859-1\")\n",
    "df.drop('price_simbol', inplace=True, axis=1)\n",
    "df"
   ]
  },
  {
   "cell_type": "code",
   "execution_count": 47,
   "metadata": {},
   "outputs": [],
   "source": [
    "products_df = df.copy()"
   ]
  },
  {
   "cell_type": "code",
   "execution_count": 48,
   "metadata": {},
   "outputs": [
    {
     "output_type": "execute_result",
     "data": {
      "text/plain": [
       "(14312, 11)"
      ]
     },
     "metadata": {},
     "execution_count": 48
    }
   ],
   "source": [
    "products_df.shape"
   ]
  },
  {
   "cell_type": "code",
   "execution_count": 49,
   "metadata": {},
   "outputs": [
    {
     "output_type": "stream",
     "name": "stdout",
     "text": [
      "<class 'pandas.core.frame.DataFrame'>\nRangeIndex: 14312 entries, 0 to 14311\nData columns (total 11 columns):\n #   Column          Non-Null Count  Dtype  \n---  ------          --------------  -----  \n 0   name            14312 non-null  object \n 1   link            14312 non-null  object \n 2   price           14312 non-null  object \n 3   price_discount  310 non-null    object \n 4   best_seller     14312 non-null  bool   \n 5   promotional     14312 non-null  bool   \n 6   category_id     14312 non-null  object \n 7   number_sales    14285 non-null  object \n 8   seller          14300 non-null  object \n 9   delivery        0 non-null      float64\n 10  rating          2019 non-null   float64\ndtypes: bool(2), float64(2), object(7)\nmemory usage: 1.0+ MB\n"
     ]
    }
   ],
   "source": [
    "products_df.info()"
   ]
  },
  {
   "cell_type": "code",
   "execution_count": 50,
   "metadata": {},
   "outputs": [
    {
     "output_type": "execute_result",
     "data": {
      "text/plain": [
       "array([nan, '5% OFF', '8% OFF', '21% OFF', '33% OFF', '56% OFF',\n",
       "       '26% OFF', '15% OFF', '40% OFF', '50% OFF', '30% OFF', '14% OFF',\n",
       "       '10% OFF', '17% OFF', '18% OFF', '28% OFF', '12% OFF', '6% OFF',\n",
       "       '51% OFF', '57% OFF', '32% OFF', '19% OFF', '27% OFF', '20% OFF',\n",
       "       '23% OFF', '22% OFF', '37% OFF', '16% OFF', '9% OFF', '42% OFF',\n",
       "       '1% OFF', '11% OFF', '13% OFF', '25% OFF', '49% OFF', '24% OFF',\n",
       "       '38% OFF', '52% OFF', '45% OFF', '43% OFF', '44% OFF', '29% OFF',\n",
       "       '41% OFF', '46% OFF', '7% OFF', '34% OFF'], dtype=object)"
      ]
     },
     "metadata": {},
     "execution_count": 50
    }
   ],
   "source": [
    "products_df['price_discount'].unique()"
   ]
  },
  {
   "cell_type": "code",
   "execution_count": 51,
   "metadata": {},
   "outputs": [
    {
     "output_type": "execute_result",
     "data": {
      "text/plain": [
       "array(['HELLOFTHENORTHSTORE', 'BUNKERBIKER', 'KORINTIO.COM', ...,\n",
       "       'CRODAS_1', 'ANDYBARRANCONAVARRO', 'TARGETDOCUMENTSASTARGETD'],\n",
       "      dtype=object)"
      ]
     },
     "metadata": {},
     "execution_count": 51
    }
   ],
   "source": [
    "products_df['seller'].unique()"
   ]
  },
  {
   "cell_type": "markdown",
   "metadata": {},
   "source": [
    "### # ventas"
   ]
  },
  {
   "cell_type": "markdown",
   "metadata": {},
   "source": [
    "Agregar '{number_sales} | 0 vendidos' a productos que no tienen numero de ventas"
   ]
  },
  {
   "cell_type": "code",
   "execution_count": 52,
   "metadata": {
    "scrolled": true
   },
   "outputs": [
    {
     "output_type": "execute_result",
     "data": {
      "text/plain": [
       "                                                    name  \\\n",
       "0      Casco Ciclismo Armor On Trail Bicicletas Ruta ...   \n",
       "1              Velocï¿½metro (odï¿½metro) Para Bicicleta   \n",
       "2      Soporte Pared Bicicleta 30kg Original 2 Unid T...   \n",
       "3        Luz Trasera + Delantera Led Bicicletas Ruta Mtb   \n",
       "4      Casco Mtb Enduro Certificado Cairbull Biciclet...   \n",
       "...                                                  ...   \n",
       "14307      Monociclo Cromado Sun 24 Pulgadas Color Negro   \n",
       "14308       Monocicle Aw Rueda De 16 Pulgadas Color Rojo   \n",
       "14309  Monociclo Fun Rueda De 20 Pulgadas Con Aleaciï...   \n",
       "14310  Monociclo Fun Rueda De 20 Pulgadas Con Aleaciï...   \n",
       "14311      Monociclo Sun 24 Pulgadas Color Verde Y Negro   \n",
       "\n",
       "                                                    link      price  \\\n",
       "0      https://articulo.mercadolibre.com.co/MCO-56490...     79.900   \n",
       "1      https://articulo.mercadolibre.com.co/MCO-58912...     17.500   \n",
       "2      https://articulo.mercadolibre.com.co/MCO-46826...     29.800   \n",
       "3      https://articulo.mercadolibre.com.co/MCO-57657...     29.900   \n",
       "4      https://articulo.mercadolibre.com.co/MCO-47970...    149.900   \n",
       "...                                                  ...        ...   \n",
       "14307  https://articulo.mercadolibre.com.co/MCO-58970...  1.298.394   \n",
       "14308  https://articulo.mercadolibre.com.co/MCO-58970...    601.934   \n",
       "14309  https://articulo.mercadolibre.com.co/MCO-58970...  1.258.624   \n",
       "14310  https://articulo.mercadolibre.com.co/MCO-58970...  1.535.074   \n",
       "14311  https://articulo.mercadolibre.com.co/MCO-58986...  1.375.994   \n",
       "\n",
       "      price_discount  best_seller  promotional category_id  \\\n",
       "0                NaN        False        False    MCO12214   \n",
       "1                NaN        False        False    MCO12214   \n",
       "2                NaN        False        False    MCO12214   \n",
       "3                NaN         True        False    MCO12214   \n",
       "4                NaN        False        False    MCO12214   \n",
       "...              ...          ...          ...         ...   \n",
       "14307            NaN        False        False     MCO6143   \n",
       "14308            NaN        False        False     MCO6143   \n",
       "14309            NaN        False        False     MCO6143   \n",
       "14310            NaN        False        False     MCO6143   \n",
       "14311            NaN        False        False     MCO6143   \n",
       "\n",
       "                  number_sales               seller  delivery  rating  \n",
       "0      Nuevo  |  1568 vendidos  HELLOFTHENORTHSTORE       NaN     4.8  \n",
       "1       Nuevo  |  141 vendidos          BUNKERBIKER       NaN     4.5  \n",
       "2      Nuevo  |  3271 vendidos         KORINTIO.COM       NaN     4.7  \n",
       "3      Nuevo  |  2893 vendidos  HELLOFTHENORTHSTORE       NaN     4.3  \n",
       "4       Nuevo  |  581 vendidos         KORINTIO.COM       NaN     4.9  \n",
       "...                        ...                  ...       ...     ...  \n",
       "14307       Nuevo | 0 vendidos             DIFERO82       NaN     NaN  \n",
       "14308       Nuevo | 0 vendidos             DIFERO82       NaN     NaN  \n",
       "14309       Nuevo | 0 vendidos             DIFERO82       NaN     NaN  \n",
       "14310       Nuevo | 0 vendidos             DIFERO82       NaN     NaN  \n",
       "14311       Nuevo | 0 vendidos         GIGASHOP-USA       NaN     NaN  \n",
       "\n",
       "[14312 rows x 11 columns]"
      ],
      "text/html": "<div>\n<style scoped>\n    .dataframe tbody tr th:only-of-type {\n        vertical-align: middle;\n    }\n\n    .dataframe tbody tr th {\n        vertical-align: top;\n    }\n\n    .dataframe thead th {\n        text-align: right;\n    }\n</style>\n<table border=\"1\" class=\"dataframe\">\n  <thead>\n    <tr style=\"text-align: right;\">\n      <th></th>\n      <th>name</th>\n      <th>link</th>\n      <th>price</th>\n      <th>price_discount</th>\n      <th>best_seller</th>\n      <th>promotional</th>\n      <th>category_id</th>\n      <th>number_sales</th>\n      <th>seller</th>\n      <th>delivery</th>\n      <th>rating</th>\n    </tr>\n  </thead>\n  <tbody>\n    <tr>\n      <th>0</th>\n      <td>Casco Ciclismo Armor On Trail Bicicletas Ruta ...</td>\n      <td>https://articulo.mercadolibre.com.co/MCO-56490...</td>\n      <td>79.900</td>\n      <td>NaN</td>\n      <td>False</td>\n      <td>False</td>\n      <td>MCO12214</td>\n      <td>Nuevo  |  1568 vendidos</td>\n      <td>HELLOFTHENORTHSTORE</td>\n      <td>NaN</td>\n      <td>4.8</td>\n    </tr>\n    <tr>\n      <th>1</th>\n      <td>Velocï¿½metro (odï¿½metro) Para Bicicleta</td>\n      <td>https://articulo.mercadolibre.com.co/MCO-58912...</td>\n      <td>17.500</td>\n      <td>NaN</td>\n      <td>False</td>\n      <td>False</td>\n      <td>MCO12214</td>\n      <td>Nuevo  |  141 vendidos</td>\n      <td>BUNKERBIKER</td>\n      <td>NaN</td>\n      <td>4.5</td>\n    </tr>\n    <tr>\n      <th>2</th>\n      <td>Soporte Pared Bicicleta 30kg Original 2 Unid T...</td>\n      <td>https://articulo.mercadolibre.com.co/MCO-46826...</td>\n      <td>29.800</td>\n      <td>NaN</td>\n      <td>False</td>\n      <td>False</td>\n      <td>MCO12214</td>\n      <td>Nuevo  |  3271 vendidos</td>\n      <td>KORINTIO.COM</td>\n      <td>NaN</td>\n      <td>4.7</td>\n    </tr>\n    <tr>\n      <th>3</th>\n      <td>Luz Trasera + Delantera Led Bicicletas Ruta Mtb</td>\n      <td>https://articulo.mercadolibre.com.co/MCO-57657...</td>\n      <td>29.900</td>\n      <td>NaN</td>\n      <td>True</td>\n      <td>False</td>\n      <td>MCO12214</td>\n      <td>Nuevo  |  2893 vendidos</td>\n      <td>HELLOFTHENORTHSTORE</td>\n      <td>NaN</td>\n      <td>4.3</td>\n    </tr>\n    <tr>\n      <th>4</th>\n      <td>Casco Mtb Enduro Certificado Cairbull Biciclet...</td>\n      <td>https://articulo.mercadolibre.com.co/MCO-47970...</td>\n      <td>149.900</td>\n      <td>NaN</td>\n      <td>False</td>\n      <td>False</td>\n      <td>MCO12214</td>\n      <td>Nuevo  |  581 vendidos</td>\n      <td>KORINTIO.COM</td>\n      <td>NaN</td>\n      <td>4.9</td>\n    </tr>\n    <tr>\n      <th>...</th>\n      <td>...</td>\n      <td>...</td>\n      <td>...</td>\n      <td>...</td>\n      <td>...</td>\n      <td>...</td>\n      <td>...</td>\n      <td>...</td>\n      <td>...</td>\n      <td>...</td>\n      <td>...</td>\n    </tr>\n    <tr>\n      <th>14307</th>\n      <td>Monociclo Cromado Sun 24 Pulgadas Color Negro</td>\n      <td>https://articulo.mercadolibre.com.co/MCO-58970...</td>\n      <td>1.298.394</td>\n      <td>NaN</td>\n      <td>False</td>\n      <td>False</td>\n      <td>MCO6143</td>\n      <td>Nuevo | 0 vendidos</td>\n      <td>DIFERO82</td>\n      <td>NaN</td>\n      <td>NaN</td>\n    </tr>\n    <tr>\n      <th>14308</th>\n      <td>Monocicle Aw Rueda De 16 Pulgadas Color Rojo</td>\n      <td>https://articulo.mercadolibre.com.co/MCO-58970...</td>\n      <td>601.934</td>\n      <td>NaN</td>\n      <td>False</td>\n      <td>False</td>\n      <td>MCO6143</td>\n      <td>Nuevo | 0 vendidos</td>\n      <td>DIFERO82</td>\n      <td>NaN</td>\n      <td>NaN</td>\n    </tr>\n    <tr>\n      <th>14309</th>\n      <td>Monociclo Fun Rueda De 20 Pulgadas Con Aleaciï...</td>\n      <td>https://articulo.mercadolibre.com.co/MCO-58970...</td>\n      <td>1.258.624</td>\n      <td>NaN</td>\n      <td>False</td>\n      <td>False</td>\n      <td>MCO6143</td>\n      <td>Nuevo | 0 vendidos</td>\n      <td>DIFERO82</td>\n      <td>NaN</td>\n      <td>NaN</td>\n    </tr>\n    <tr>\n      <th>14310</th>\n      <td>Monociclo Fun Rueda De 20 Pulgadas Con Aleaciï...</td>\n      <td>https://articulo.mercadolibre.com.co/MCO-58970...</td>\n      <td>1.535.074</td>\n      <td>NaN</td>\n      <td>False</td>\n      <td>False</td>\n      <td>MCO6143</td>\n      <td>Nuevo | 0 vendidos</td>\n      <td>DIFERO82</td>\n      <td>NaN</td>\n      <td>NaN</td>\n    </tr>\n    <tr>\n      <th>14311</th>\n      <td>Monociclo Sun 24 Pulgadas Color Verde Y Negro</td>\n      <td>https://articulo.mercadolibre.com.co/MCO-58986...</td>\n      <td>1.375.994</td>\n      <td>NaN</td>\n      <td>False</td>\n      <td>False</td>\n      <td>MCO6143</td>\n      <td>Nuevo | 0 vendidos</td>\n      <td>GIGASHOP-USA</td>\n      <td>NaN</td>\n      <td>NaN</td>\n    </tr>\n  </tbody>\n</table>\n<p>14312 rows × 11 columns</p>\n</div>"
     },
     "metadata": {},
     "execution_count": 52
    }
   ],
   "source": [
    "#df[df['number_sales'].str.contains(' | ')==False]\n",
    "products_df['number_sales'] = products_df['number_sales'].apply(lambda x: x if \" | \" in str(x) else f'{x} | 0 vendidos')\n",
    "products_df"
   ]
  },
  {
   "cell_type": "code",
   "execution_count": 53,
   "metadata": {},
   "outputs": [],
   "source": [
    "products_df[['product_status','number_sales']] = products_df['number_sales'].str.split('|', expand=True)"
   ]
  },
  {
   "cell_type": "markdown",
   "metadata": {},
   "source": [
    "### Limpiar texto"
   ]
  },
  {
   "cell_type": "code",
   "execution_count": 54,
   "metadata": {},
   "outputs": [],
   "source": [
    "#trim\n",
    "products_df['product_status'] = products_df['product_status'].str.strip()\n",
    "products_df['product_status'] = products_df['product_status'].str.lower()\n",
    "products_df['number_sales'] = products_df['number_sales'].apply(lambda x: x.lower())\n",
    "products_df['number_sales'] = products_df['number_sales'].apply(lambda x: x.replace(\"vendidos\", \"\").replace(\"vendido\", \"\"))\n",
    "products_df['number_sales'] = products_df['number_sales'].apply(lambda x: x.strip())\n",
    "products_df['number_sales'] = products_df['number_sales'].astype('int')\n"
   ]
  },
  {
   "cell_type": "code",
   "execution_count": 55,
   "metadata": {},
   "outputs": [
    {
     "output_type": "stream",
     "name": "stdout",
     "text": [
      "<class 'pandas.core.frame.DataFrame'>\nRangeIndex: 14312 entries, 0 to 14311\nData columns (total 12 columns):\n #   Column          Non-Null Count  Dtype  \n---  ------          --------------  -----  \n 0   name            14312 non-null  object \n 1   link            14312 non-null  object \n 2   price           14312 non-null  object \n 3   price_discount  310 non-null    object \n 4   best_seller     14312 non-null  bool   \n 5   promotional     14312 non-null  bool   \n 6   category_id     14312 non-null  object \n 7   number_sales    14312 non-null  int32  \n 8   seller          14300 non-null  object \n 9   delivery        0 non-null      float64\n 10  rating          2019 non-null   float64\n 11  product_status  14312 non-null  object \ndtypes: bool(2), float64(2), int32(1), object(7)\nmemory usage: 1.1+ MB\n"
     ]
    }
   ],
   "source": [
    "products_df.info()"
   ]
  },
  {
   "cell_type": "code",
   "execution_count": 56,
   "metadata": {},
   "outputs": [
    {
     "output_type": "execute_result",
     "data": {
      "text/plain": [
       "array(['nuevo', 'usado', 'nan', '1 vendido', '17 vendidos', '3 vendidos',\n",
       "       '12 vendidos', '2 vendidos', '9 vendidos'], dtype=object)"
      ]
     },
     "metadata": {},
     "execution_count": 56
    }
   ],
   "source": [
    "products_df['product_status'].unique()"
   ]
  },
  {
   "cell_type": "code",
   "execution_count": 57,
   "metadata": {
    "scrolled": true
   },
   "outputs": [
    {
     "output_type": "stream",
     "name": "stdout",
     "text": [
      "<class 'pandas.core.frame.DataFrame'>\nRangeIndex: 14312 entries, 0 to 14311\nData columns (total 11 columns):\n #   Column          Non-Null Count  Dtype  \n---  ------          --------------  -----  \n 0   name            14312 non-null  object \n 1   link            14312 non-null  object \n 2   price           14312 non-null  object \n 3   price_discount  310 non-null    object \n 4   best_seller     14312 non-null  bool   \n 5   promotional     14312 non-null  bool   \n 6   category_id     14312 non-null  object \n 7   number_sales    14285 non-null  object \n 8   seller          14300 non-null  object \n 9   delivery        0 non-null      float64\n 10  rating          2019 non-null   float64\ndtypes: bool(2), float64(2), object(7)\nmemory usage: 1.0+ MB\n"
     ]
    }
   ],
   "source": [
    "df.info()\n",
    "#products_df.to_csv('ETL.csv')"
   ]
  },
  {
   "cell_type": "code",
   "execution_count": 58,
   "metadata": {
    "scrolled": false
   },
   "outputs": [
    {
     "output_type": "execute_result",
     "data": {
      "text/plain": [
       "                                                   name  \\\n",
       "1424  Garmin Tacx Flux S Smart Rodillo De Entrenamie...   \n",
       "1622  Ciclocomputador Cadencia Velocidad Inalambrico...   \n",
       "1709  Ciclocomputador Cadencia Banda Fc Inalï¿½mbric...   \n",
       "1742  Ciclocomputador Cadencia Inalambrico Soporte I...   \n",
       "1842  Ciclocomputador Inalambrico Igpsport Igs618 So...   \n",
       "...                                                 ...   \n",
       "2083  Bicicleta Gw Hyena 29 Shimano Revoshift Alumin...   \n",
       "2591  Bicicletas Roadmaster Jumper Doble Susp 27,5''...   \n",
       "2603  Bicicletas Roadmaster Jumper Doble Susp 27,5''...   \n",
       "2052  Bicicleta Roadmaster Jumper Doble Susp 29 Shim...   \n",
       "2049  Bicicicleta Roadmaster Hurricane 29  Shimano R...   \n",
       "\n",
       "                                                   link      price  \\\n",
       "1424  https://articulo.mercadolibre.com.co/MCO-58385...  4.449.990   \n",
       "1622  https://articulo.mercadolibre.com.co/MCO-59031...  1.059.900   \n",
       "1709  https://articulo.mercadolibre.com.co/MCO-59242...    969.000   \n",
       "1742  https://articulo.mercadolibre.com.co/MCO-58659...    919.900   \n",
       "1842  https://articulo.mercadolibre.com.co/MCO-59500...    749.000   \n",
       "...                                                 ...        ...   \n",
       "2083  https://articulo.mercadolibre.com.co/MCO-49357...  1.499.900   \n",
       "2591  https://articulo.mercadolibre.com.co/MCO-60767...  1.049.900   \n",
       "2603  https://articulo.mercadolibre.com.co/MCO-60767...  1.049.900   \n",
       "2052  https://articulo.mercadolibre.com.co/MCO-53765...  1.049.900   \n",
       "2049  https://articulo.mercadolibre.com.co/MCO-53267...  1.399.900   \n",
       "\n",
       "     price_discount  best_seller  promotional category_id  number_sales  \\\n",
       "1424            NaN        False        False    MCO12214             1   \n",
       "1622            NaN        False        False    MCO12214             1   \n",
       "1709            NaN        False        False    MCO12214             1   \n",
       "1742            NaN        False        False    MCO12214             1   \n",
       "1842            NaN        False        False    MCO12214             1   \n",
       "...             ...          ...          ...         ...           ...   \n",
       "2083        43% OFF        False        False     MCO8411           915   \n",
       "2591            NaN        False        False     MCO8411          1079   \n",
       "2603            NaN        False        False     MCO8411          1079   \n",
       "2052        38% OFF        False        False     MCO8411          1158   \n",
       "2049        57% OFF         True        False     MCO8411          2246   \n",
       "\n",
       "                  seller  delivery  rating product_status  \n",
       "1424              IECOMM       NaN     NaN          nuevo  \n",
       "1622  SANSA TIENDAONLINE       NaN     NaN          nuevo  \n",
       "1709  SANSA TIENDAONLINE       NaN     NaN          nuevo  \n",
       "1742  SANSA TIENDAONLINE       NaN     NaN          nuevo  \n",
       "1842  SANSA TIENDAONLINE       NaN     4.7          nuevo  \n",
       "...                  ...       ...     ...            ...  \n",
       "2083      HOMESALE S.A.S       NaN     4.5          nuevo  \n",
       "2591      HOMESALE S.A.S       NaN     NaN          nuevo  \n",
       "2603      HOMESALE S.A.S       NaN     NaN          nuevo  \n",
       "2052          Roadmaster       NaN     4.6          nuevo  \n",
       "2049          Roadmaster       NaN     4.5          nuevo  \n",
       "\n",
       "[14312 rows x 12 columns]"
      ],
      "text/html": "<div>\n<style scoped>\n    .dataframe tbody tr th:only-of-type {\n        vertical-align: middle;\n    }\n\n    .dataframe tbody tr th {\n        vertical-align: top;\n    }\n\n    .dataframe thead th {\n        text-align: right;\n    }\n</style>\n<table border=\"1\" class=\"dataframe\">\n  <thead>\n    <tr style=\"text-align: right;\">\n      <th></th>\n      <th>name</th>\n      <th>link</th>\n      <th>price</th>\n      <th>price_discount</th>\n      <th>best_seller</th>\n      <th>promotional</th>\n      <th>category_id</th>\n      <th>number_sales</th>\n      <th>seller</th>\n      <th>delivery</th>\n      <th>rating</th>\n      <th>product_status</th>\n    </tr>\n  </thead>\n  <tbody>\n    <tr>\n      <th>1424</th>\n      <td>Garmin Tacx Flux S Smart Rodillo De Entrenamie...</td>\n      <td>https://articulo.mercadolibre.com.co/MCO-58385...</td>\n      <td>4.449.990</td>\n      <td>NaN</td>\n      <td>False</td>\n      <td>False</td>\n      <td>MCO12214</td>\n      <td>1</td>\n      <td>IECOMM</td>\n      <td>NaN</td>\n      <td>NaN</td>\n      <td>nuevo</td>\n    </tr>\n    <tr>\n      <th>1622</th>\n      <td>Ciclocomputador Cadencia Velocidad Inalambrico...</td>\n      <td>https://articulo.mercadolibre.com.co/MCO-59031...</td>\n      <td>1.059.900</td>\n      <td>NaN</td>\n      <td>False</td>\n      <td>False</td>\n      <td>MCO12214</td>\n      <td>1</td>\n      <td>SANSA TIENDAONLINE</td>\n      <td>NaN</td>\n      <td>NaN</td>\n      <td>nuevo</td>\n    </tr>\n    <tr>\n      <th>1709</th>\n      <td>Ciclocomputador Cadencia Banda Fc Inalï¿½mbric...</td>\n      <td>https://articulo.mercadolibre.com.co/MCO-59242...</td>\n      <td>969.000</td>\n      <td>NaN</td>\n      <td>False</td>\n      <td>False</td>\n      <td>MCO12214</td>\n      <td>1</td>\n      <td>SANSA TIENDAONLINE</td>\n      <td>NaN</td>\n      <td>NaN</td>\n      <td>nuevo</td>\n    </tr>\n    <tr>\n      <th>1742</th>\n      <td>Ciclocomputador Cadencia Inalambrico Soporte I...</td>\n      <td>https://articulo.mercadolibre.com.co/MCO-58659...</td>\n      <td>919.900</td>\n      <td>NaN</td>\n      <td>False</td>\n      <td>False</td>\n      <td>MCO12214</td>\n      <td>1</td>\n      <td>SANSA TIENDAONLINE</td>\n      <td>NaN</td>\n      <td>NaN</td>\n      <td>nuevo</td>\n    </tr>\n    <tr>\n      <th>1842</th>\n      <td>Ciclocomputador Inalambrico Igpsport Igs618 So...</td>\n      <td>https://articulo.mercadolibre.com.co/MCO-59500...</td>\n      <td>749.000</td>\n      <td>NaN</td>\n      <td>False</td>\n      <td>False</td>\n      <td>MCO12214</td>\n      <td>1</td>\n      <td>SANSA TIENDAONLINE</td>\n      <td>NaN</td>\n      <td>4.7</td>\n      <td>nuevo</td>\n    </tr>\n    <tr>\n      <th>...</th>\n      <td>...</td>\n      <td>...</td>\n      <td>...</td>\n      <td>...</td>\n      <td>...</td>\n      <td>...</td>\n      <td>...</td>\n      <td>...</td>\n      <td>...</td>\n      <td>...</td>\n      <td>...</td>\n      <td>...</td>\n    </tr>\n    <tr>\n      <th>2083</th>\n      <td>Bicicleta Gw Hyena 29 Shimano Revoshift Alumin...</td>\n      <td>https://articulo.mercadolibre.com.co/MCO-49357...</td>\n      <td>1.499.900</td>\n      <td>43% OFF</td>\n      <td>False</td>\n      <td>False</td>\n      <td>MCO8411</td>\n      <td>915</td>\n      <td>HOMESALE S.A.S</td>\n      <td>NaN</td>\n      <td>4.5</td>\n      <td>nuevo</td>\n    </tr>\n    <tr>\n      <th>2591</th>\n      <td>Bicicletas Roadmaster Jumper Doble Susp 27,5''...</td>\n      <td>https://articulo.mercadolibre.com.co/MCO-60767...</td>\n      <td>1.049.900</td>\n      <td>NaN</td>\n      <td>False</td>\n      <td>False</td>\n      <td>MCO8411</td>\n      <td>1079</td>\n      <td>HOMESALE S.A.S</td>\n      <td>NaN</td>\n      <td>NaN</td>\n      <td>nuevo</td>\n    </tr>\n    <tr>\n      <th>2603</th>\n      <td>Bicicletas Roadmaster Jumper Doble Susp 27,5''...</td>\n      <td>https://articulo.mercadolibre.com.co/MCO-60767...</td>\n      <td>1.049.900</td>\n      <td>NaN</td>\n      <td>False</td>\n      <td>False</td>\n      <td>MCO8411</td>\n      <td>1079</td>\n      <td>HOMESALE S.A.S</td>\n      <td>NaN</td>\n      <td>NaN</td>\n      <td>nuevo</td>\n    </tr>\n    <tr>\n      <th>2052</th>\n      <td>Bicicleta Roadmaster Jumper Doble Susp 29 Shim...</td>\n      <td>https://articulo.mercadolibre.com.co/MCO-53765...</td>\n      <td>1.049.900</td>\n      <td>38% OFF</td>\n      <td>False</td>\n      <td>False</td>\n      <td>MCO8411</td>\n      <td>1158</td>\n      <td>Roadmaster</td>\n      <td>NaN</td>\n      <td>4.6</td>\n      <td>nuevo</td>\n    </tr>\n    <tr>\n      <th>2049</th>\n      <td>Bicicicleta Roadmaster Hurricane 29  Shimano R...</td>\n      <td>https://articulo.mercadolibre.com.co/MCO-53267...</td>\n      <td>1.399.900</td>\n      <td>57% OFF</td>\n      <td>True</td>\n      <td>False</td>\n      <td>MCO8411</td>\n      <td>2246</td>\n      <td>Roadmaster</td>\n      <td>NaN</td>\n      <td>4.5</td>\n      <td>nuevo</td>\n    </tr>\n  </tbody>\n</table>\n<p>14312 rows × 12 columns</p>\n</div>"
     },
     "metadata": {},
     "execution_count": 58
    }
   ],
   "source": [
    "products_df.sort_values(by=['category_id','number_sales','best_seller'])"
   ]
  },
  {
   "cell_type": "markdown",
   "metadata": {},
   "source": [
    "### Dataframe de categorias"
   ]
  },
  {
   "cell_type": "code",
   "execution_count": 59,
   "metadata": {
    "scrolled": true
   },
   "outputs": [
    {
     "output_type": "execute_result",
     "data": {
      "text/plain": [
       "     hierarchy                                               href         id  \\\n",
       "0            1  https://www.mercadolibre.com.co/c/accesorios-p...    MCO1747   \n",
       "1            1  https://www.mercadolibre.com.co/c/agro#c_id=/h...  MCO441917   \n",
       "2            1  https://www.mercadolibre.com.co/c/alimentos-y-...    MCO1403   \n",
       "3            1  https://www.mercadolibre.com.co/c/animales-y-m...    MCO1071   \n",
       "4            1  https://www.mercadolibre.com.co/c/antiguedades...    MCO1367   \n",
       "..         ...                                                ...        ...   \n",
       "334          4  https://deportes.mercadolibre.com.co/bicicleta...    LAST_ID   \n",
       "335          4  https://deportes.mercadolibre.com.co/bicicleta...    LAST_ID   \n",
       "336          4  https://deportes.mercadolibre.com.co/bicicleta...    LAST_ID   \n",
       "337          4  https://deportes.mercadolibre.com.co/bicicleta...    LAST_ID   \n",
       "338          4  https://deportes.mercadolibre.com.co/bicicleta...    LAST_ID   \n",
       "\n",
       "     index                         name   parent  subcategories  uid  \n",
       "0        0   Accesorios para VehÃ­culos      NaN             19  NaN  \n",
       "1        1                         Agro      NaN              8  NaN  \n",
       "2        2          Alimentos y Bebidas      NaN              7  NaN  \n",
       "3        3          Animales y Mascotas      NaN             10  NaN  \n",
       "4        4  AntigÃ¼edades y Colecciones      NaN              8  NaN  \n",
       "..     ...                          ...      ...            ...  ...  \n",
       "334      6                      Pedales  MCO1934              0  NaN  \n",
       "335      7                       Ruedas  MCO1934              0  NaN  \n",
       "336      8                      Cadenas  MCO1934              0  NaN  \n",
       "337      0              Mercado EnvÃ­os  MCO6143              0  NaN  \n",
       "338      1                EnvÃ­o gratis  MCO6143              0  NaN  \n",
       "\n",
       "[339 rows x 8 columns]"
      ],
      "text/html": "<div>\n<style scoped>\n    .dataframe tbody tr th:only-of-type {\n        vertical-align: middle;\n    }\n\n    .dataframe tbody tr th {\n        vertical-align: top;\n    }\n\n    .dataframe thead th {\n        text-align: right;\n    }\n</style>\n<table border=\"1\" class=\"dataframe\">\n  <thead>\n    <tr style=\"text-align: right;\">\n      <th></th>\n      <th>hierarchy</th>\n      <th>href</th>\n      <th>id</th>\n      <th>index</th>\n      <th>name</th>\n      <th>parent</th>\n      <th>subcategories</th>\n      <th>uid</th>\n    </tr>\n  </thead>\n  <tbody>\n    <tr>\n      <th>0</th>\n      <td>1</td>\n      <td>https://www.mercadolibre.com.co/c/accesorios-p...</td>\n      <td>MCO1747</td>\n      <td>0</td>\n      <td>Accesorios para VehÃ­culos</td>\n      <td>NaN</td>\n      <td>19</td>\n      <td>NaN</td>\n    </tr>\n    <tr>\n      <th>1</th>\n      <td>1</td>\n      <td>https://www.mercadolibre.com.co/c/agro#c_id=/h...</td>\n      <td>MCO441917</td>\n      <td>1</td>\n      <td>Agro</td>\n      <td>NaN</td>\n      <td>8</td>\n      <td>NaN</td>\n    </tr>\n    <tr>\n      <th>2</th>\n      <td>1</td>\n      <td>https://www.mercadolibre.com.co/c/alimentos-y-...</td>\n      <td>MCO1403</td>\n      <td>2</td>\n      <td>Alimentos y Bebidas</td>\n      <td>NaN</td>\n      <td>7</td>\n      <td>NaN</td>\n    </tr>\n    <tr>\n      <th>3</th>\n      <td>1</td>\n      <td>https://www.mercadolibre.com.co/c/animales-y-m...</td>\n      <td>MCO1071</td>\n      <td>3</td>\n      <td>Animales y Mascotas</td>\n      <td>NaN</td>\n      <td>10</td>\n      <td>NaN</td>\n    </tr>\n    <tr>\n      <th>4</th>\n      <td>1</td>\n      <td>https://www.mercadolibre.com.co/c/antiguedades...</td>\n      <td>MCO1367</td>\n      <td>4</td>\n      <td>AntigÃ¼edades y Colecciones</td>\n      <td>NaN</td>\n      <td>8</td>\n      <td>NaN</td>\n    </tr>\n    <tr>\n      <th>...</th>\n      <td>...</td>\n      <td>...</td>\n      <td>...</td>\n      <td>...</td>\n      <td>...</td>\n      <td>...</td>\n      <td>...</td>\n      <td>...</td>\n    </tr>\n    <tr>\n      <th>334</th>\n      <td>4</td>\n      <td>https://deportes.mercadolibre.com.co/bicicleta...</td>\n      <td>LAST_ID</td>\n      <td>6</td>\n      <td>Pedales</td>\n      <td>MCO1934</td>\n      <td>0</td>\n      <td>NaN</td>\n    </tr>\n    <tr>\n      <th>335</th>\n      <td>4</td>\n      <td>https://deportes.mercadolibre.com.co/bicicleta...</td>\n      <td>LAST_ID</td>\n      <td>7</td>\n      <td>Ruedas</td>\n      <td>MCO1934</td>\n      <td>0</td>\n      <td>NaN</td>\n    </tr>\n    <tr>\n      <th>336</th>\n      <td>4</td>\n      <td>https://deportes.mercadolibre.com.co/bicicleta...</td>\n      <td>LAST_ID</td>\n      <td>8</td>\n      <td>Cadenas</td>\n      <td>MCO1934</td>\n      <td>0</td>\n      <td>NaN</td>\n    </tr>\n    <tr>\n      <th>337</th>\n      <td>4</td>\n      <td>https://deportes.mercadolibre.com.co/bicicleta...</td>\n      <td>LAST_ID</td>\n      <td>0</td>\n      <td>Mercado EnvÃ­os</td>\n      <td>MCO6143</td>\n      <td>0</td>\n      <td>NaN</td>\n    </tr>\n    <tr>\n      <th>338</th>\n      <td>4</td>\n      <td>https://deportes.mercadolibre.com.co/bicicleta...</td>\n      <td>LAST_ID</td>\n      <td>1</td>\n      <td>EnvÃ­o gratis</td>\n      <td>MCO6143</td>\n      <td>0</td>\n      <td>NaN</td>\n    </tr>\n  </tbody>\n</table>\n<p>339 rows × 8 columns</p>\n</div>"
     },
     "metadata": {},
     "execution_count": 59
    }
   ],
   "source": [
    "df2 = pd.read_csv(f'../.output/{PID}-{MARKTPLACE}-{COUNTRY}-categories.csv', encoding = \"ISO-8859-1\")\n",
    "categories_df = df2.copy()\n",
    "categories_df"
   ]
  },
  {
   "cell_type": "markdown",
   "metadata": {},
   "source": [
    "Agregar datos de catgoria de dataframe de categoria"
   ]
  },
  {
   "cell_type": "code",
   "execution_count": 60,
   "metadata": {
    "scrolled": true,
    "tags": []
   },
   "outputs": [],
   "source": [
    "products_df['category_name'] = None\n",
    "for index, row in products_df.iterrows():\n",
    "    for index2, row2 in categories_df.iterrows():\n",
    "        if row['category_id'] == row2['id']:\n",
    "            products_df.loc[index,'category_name'] = row2['name']\n",
    "            break\n"
   ]
  },
  {
   "cell_type": "code",
   "execution_count": 61,
   "metadata": {
    "scrolled": true
   },
   "outputs": [
    {
     "output_type": "execute_result",
     "data": {
      "text/plain": [
       "array(['Accesorios para Bicicletas', 'Bicicletas',\n",
       "       'Bicicletas ElÃ©ctricas', 'Bicicletas Fijas', 'Indumentaria',\n",
       "       'Repuestos', 'Otros'], dtype=object)"
      ]
     },
     "metadata": {},
     "execution_count": 61
    }
   ],
   "source": [
    "products_df['category_name'].unique()"
   ]
  },
  {
   "cell_type": "code",
   "execution_count": 62,
   "metadata": {},
   "outputs": [
    {
     "output_type": "execute_result",
     "data": {
      "text/plain": [
       "                                                name  \\\n",
       "0  Casco Ciclismo Armor On Trail Bicicletas Ruta ...   \n",
       "1          Velocï¿½metro (odï¿½metro) Para Bicicleta   \n",
       "2  Soporte Pared Bicicleta 30kg Original 2 Unid T...   \n",
       "3    Luz Trasera + Delantera Led Bicicletas Ruta Mtb   \n",
       "4  Casco Mtb Enduro Certificado Cairbull Biciclet...   \n",
       "\n",
       "                                                link    price price_discount  \\\n",
       "0  https://articulo.mercadolibre.com.co/MCO-56490...   79.900            NaN   \n",
       "1  https://articulo.mercadolibre.com.co/MCO-58912...   17.500            NaN   \n",
       "2  https://articulo.mercadolibre.com.co/MCO-46826...   29.800            NaN   \n",
       "3  https://articulo.mercadolibre.com.co/MCO-57657...   29.900            NaN   \n",
       "4  https://articulo.mercadolibre.com.co/MCO-47970...  149.900            NaN   \n",
       "\n",
       "   best_seller  promotional category_id  number_sales               seller  \\\n",
       "0        False        False    MCO12214          1568  HELLOFTHENORTHSTORE   \n",
       "1        False        False    MCO12214           141          BUNKERBIKER   \n",
       "2        False        False    MCO12214          3271         KORINTIO.COM   \n",
       "3         True        False    MCO12214          2893  HELLOFTHENORTHSTORE   \n",
       "4        False        False    MCO12214           581         KORINTIO.COM   \n",
       "\n",
       "   delivery  rating product_status               category_name  \n",
       "0       NaN     4.8          nuevo  Accesorios para Bicicletas  \n",
       "1       NaN     4.5          nuevo  Accesorios para Bicicletas  \n",
       "2       NaN     4.7          nuevo  Accesorios para Bicicletas  \n",
       "3       NaN     4.3          nuevo  Accesorios para Bicicletas  \n",
       "4       NaN     4.9          nuevo  Accesorios para Bicicletas  "
      ],
      "text/html": "<div>\n<style scoped>\n    .dataframe tbody tr th:only-of-type {\n        vertical-align: middle;\n    }\n\n    .dataframe tbody tr th {\n        vertical-align: top;\n    }\n\n    .dataframe thead th {\n        text-align: right;\n    }\n</style>\n<table border=\"1\" class=\"dataframe\">\n  <thead>\n    <tr style=\"text-align: right;\">\n      <th></th>\n      <th>name</th>\n      <th>link</th>\n      <th>price</th>\n      <th>price_discount</th>\n      <th>best_seller</th>\n      <th>promotional</th>\n      <th>category_id</th>\n      <th>number_sales</th>\n      <th>seller</th>\n      <th>delivery</th>\n      <th>rating</th>\n      <th>product_status</th>\n      <th>category_name</th>\n    </tr>\n  </thead>\n  <tbody>\n    <tr>\n      <th>0</th>\n      <td>Casco Ciclismo Armor On Trail Bicicletas Ruta ...</td>\n      <td>https://articulo.mercadolibre.com.co/MCO-56490...</td>\n      <td>79.900</td>\n      <td>NaN</td>\n      <td>False</td>\n      <td>False</td>\n      <td>MCO12214</td>\n      <td>1568</td>\n      <td>HELLOFTHENORTHSTORE</td>\n      <td>NaN</td>\n      <td>4.8</td>\n      <td>nuevo</td>\n      <td>Accesorios para Bicicletas</td>\n    </tr>\n    <tr>\n      <th>1</th>\n      <td>Velocï¿½metro (odï¿½metro) Para Bicicleta</td>\n      <td>https://articulo.mercadolibre.com.co/MCO-58912...</td>\n      <td>17.500</td>\n      <td>NaN</td>\n      <td>False</td>\n      <td>False</td>\n      <td>MCO12214</td>\n      <td>141</td>\n      <td>BUNKERBIKER</td>\n      <td>NaN</td>\n      <td>4.5</td>\n      <td>nuevo</td>\n      <td>Accesorios para Bicicletas</td>\n    </tr>\n    <tr>\n      <th>2</th>\n      <td>Soporte Pared Bicicleta 30kg Original 2 Unid T...</td>\n      <td>https://articulo.mercadolibre.com.co/MCO-46826...</td>\n      <td>29.800</td>\n      <td>NaN</td>\n      <td>False</td>\n      <td>False</td>\n      <td>MCO12214</td>\n      <td>3271</td>\n      <td>KORINTIO.COM</td>\n      <td>NaN</td>\n      <td>4.7</td>\n      <td>nuevo</td>\n      <td>Accesorios para Bicicletas</td>\n    </tr>\n    <tr>\n      <th>3</th>\n      <td>Luz Trasera + Delantera Led Bicicletas Ruta Mtb</td>\n      <td>https://articulo.mercadolibre.com.co/MCO-57657...</td>\n      <td>29.900</td>\n      <td>NaN</td>\n      <td>True</td>\n      <td>False</td>\n      <td>MCO12214</td>\n      <td>2893</td>\n      <td>HELLOFTHENORTHSTORE</td>\n      <td>NaN</td>\n      <td>4.3</td>\n      <td>nuevo</td>\n      <td>Accesorios para Bicicletas</td>\n    </tr>\n    <tr>\n      <th>4</th>\n      <td>Casco Mtb Enduro Certificado Cairbull Biciclet...</td>\n      <td>https://articulo.mercadolibre.com.co/MCO-47970...</td>\n      <td>149.900</td>\n      <td>NaN</td>\n      <td>False</td>\n      <td>False</td>\n      <td>MCO12214</td>\n      <td>581</td>\n      <td>KORINTIO.COM</td>\n      <td>NaN</td>\n      <td>4.9</td>\n      <td>nuevo</td>\n      <td>Accesorios para Bicicletas</td>\n    </tr>\n  </tbody>\n</table>\n</div>"
     },
     "metadata": {},
     "execution_count": 62
    }
   ],
   "source": [
    "products_df.head()"
   ]
  },
  {
   "cell_type": "code",
   "execution_count": 63,
   "metadata": {},
   "outputs": [],
   "source": [
    "products_df.to_csv('ETL.csv')"
   ]
  }
 ],
 "metadata": {
  "kernelspec": {
   "display_name": "Python 3",
   "language": "python",
   "name": "python3"
  },
  "language_info": {
   "codemirror_mode": {
    "name": "ipython",
    "version": 3
   },
   "file_extension": ".py",
   "mimetype": "text/x-python",
   "name": "python",
   "nbconvert_exporter": "python",
   "pygments_lexer": "ipython3",
   "version": "3.8.3-final"
  }
 },
 "nbformat": 4,
 "nbformat_minor": 4
}